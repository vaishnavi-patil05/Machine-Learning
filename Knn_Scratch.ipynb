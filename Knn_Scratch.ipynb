{
  "nbformat": 4,
  "nbformat_minor": 0,
  "metadata": {
    "colab": {
      "provenance": [],
      "authorship_tag": "ABX9TyPsEfuu2pKhjS+mI+EbpL3s",
      "include_colab_link": true
    },
    "kernelspec": {
      "name": "python3",
      "display_name": "Python 3"
    },
    "language_info": {
      "name": "python"
    }
  },
  "cells": [
    {
      "cell_type": "markdown",
      "metadata": {
        "id": "view-in-github",
        "colab_type": "text"
      },
      "source": [
        "<a href=\"https://colab.research.google.com/github/vaishnavi-patil05/Machine-Learning/blob/main/Knn_Scratch.ipynb\" target=\"_parent\"><img src=\"https://colab.research.google.com/assets/colab-badge.svg\" alt=\"Open In Colab\"/></a>"
      ]
    },
    {
      "cell_type": "code",
      "execution_count": null,
      "metadata": {
        "id": "MTrarBDTYYDO"
      },
      "outputs": [],
      "source": [
        "def knn(x, y, n_neighbors, dist_formula=input('Enter distance formula'), p=2):\n",
        "\n",
        "  a = x.to_numpy()\n",
        "  b = x.sample().to_numpy()\n",
        "  if (dist_formula =='euclidean') or (p==2):\n",
        "    \n",
        "    distance = np.sqrt((X.to_numpy() - X.sample().to_numpy())**p).sum(axis = 1)\n",
        "  \n",
        "  elif (dist_formula =='manhattan') or( p==1):\n",
        "\n",
        "    distance = abs((X.to_numpy() - X.sample().to_numpy())**p).sum(axis = 1)\n",
        "\n",
        "  elif (dist_formula =='minkowski') or (p>2):\n",
        "\n",
        "    distance = ((X.to_numpy() - X.sample().to_numpy())**p).sum(axis = 1)\n",
        "  \n",
        "  \n",
        "  final_df=pd.DataFrame({'DISTANCE':distance,'Y':y})\n",
        "  dist_sort= final_df.sort_values(by= 'DISTANCE',ascending=True)\n",
        "  # dist_sort.reset_index()\n",
        "  c=dist_sort.iloc[0:n_neighbors+1, 1]\n",
        "  return c.mode()[0]\n",
        "\n",
        "k = int(input('Enter number of neighbors:- \\n'))\n",
        "knn(X,y, k)"
      ]
    }
  ]
}